{
 "cells": [
  {
   "cell_type": "markdown",
   "metadata": {},
   "source": [
    "## Recuperación y limpieza de datos. Construcción de dataframe general.\n",
    "#### En este notebook se muestra el proceso de construcción del dataframe, desde la obtención de datos de diferentes fuentes, la limpieza y estandarización de información, y la integración de dataframes."
   ]
  },
  {
   "cell_type": "code",
   "execution_count": 1,
   "metadata": {},
   "outputs": [],
   "source": [
    "#Importación de funciones y librerías requeridas\n",
    "import general_functions as f\n",
    "import commodities as c\n",
    "import datos_esp as esp\n",
    "import datos_mex as mx\n",
    "import graficos as g\n",
    "import Union as u\n",
    "import pandas as pd"
   ]
  },
  {
   "cell_type": "markdown",
   "metadata": {},
   "source": [
    "##### Resumen del Proceso de Limpieza y Transformación de Datos de Commodities\n",
    "\n",
    "La función `commodities` procesa un DataFrame de datos relacionados con commodities, realizando los siguientes pasos clave:\n",
    "\n",
    "1. **Renombrado de columnas**: Se estandarizan los nombres de las columnas del DataFrame, eliminando espacios, acentos y convirtiéndolos a minúsculas para mantener la consistencia.\n",
    "\n",
    "2. **Estandarización de fechas**: La columna de fecha se convierte a un formato uniforme para garantizar que los datos de tiempo sean consistentes.\n",
    "\n",
    "3. **Conversión a tipo numérico (float)**: Las columnas que contienen datos numéricos (exceptuando la columna de fecha) se convierten a tipo `float` para facilitar su análisis.\n",
    "\n",
    "4. **Interpolación de valores faltantes**: Se completan las columnas con valores faltantes utilizando interpolación, asegurando que no haya huecos en los datos.\n",
    "\n",
    "5. **Limpieza de datos**: Se eliminan filas con valores nulos o no deseados y se realiza una limpieza final de los datos para asegurarse de que estén listos para el análisis.\n",
    "\n",
    "**Resultado final**: El DataFrame resultante estará limpio, con columnas estandarizadas y datos listos para análisis posteriores.\n"
   ]
  },
  {
   "cell_type": "code",
   "execution_count": 2,
   "metadata": {},
   "outputs": [
    {
     "name": "stdout",
     "output_type": "stream",
     "text": [
      "Reporte de valores nulos antes de la limpieza:\n",
      "date           0\n",
      "oro            0\n",
      "plata          0\n",
      "petroleo       0\n",
      "gas_natural    0\n",
      "dtype: int64\n",
      "\n",
      "\n",
      "\n",
      "Se eliminaron las filas con al menos un valor nulo.\n",
      "Cantidad de datos antes de la limpieza: 290 filas.\n",
      "Cantidad de datos después de la limpieza: 290 filas.\n",
      "Se eliminaron 0 filas con valores nulos.\n"
     ]
    }
   ],
   "source": [
    "df=c.comm_price_df()\n",
    "df=f.commodities(df)\n"
   ]
  },
  {
   "cell_type": "markdown",
   "metadata": {},
   "source": [
    "#### Importación y limpieza de datos gubernamentales en .csv de México"
   ]
  },
  {
   "cell_type": "markdown",
   "metadata": {},
   "source": [
    "##### RESUMEN DE LAS ACCIONES QUE SE VAN A REALIZAR EN ESTE PROCESO:\n",
    "\n",
    "La función `mex_sui` realiza una serie de pasos para limpiar y transformar un DataFrame `df_incp` que contiene datos de un índice de precios. Los pasos son los siguientes:\n",
    "\n",
    "1. **Renombrado de columnas**: Se renombra automáticamente las columnas del DataFrame, eliminando espacios y convirtiéndolas a minúsculas para asegurar consistencia.\n",
    "\n",
    "2. **Renombrado de columnas específicas (INCP)**: Se aplican nombres específicos a las columnas, asegurando que el DataFrame tenga las etiquetas correctas para su análisis.\n",
    "\n",
    "3. **Conversión a tipo numérico**: Se convierten las columnas numéricas (excepto la columna de fechas) a tipo `float` para asegurar la coherencia de los datos.\n",
    "\n",
    "4. **Estandarización de fechas**: Las fechas en la columna 'date' se estandarizan para tener un formato consistente.\n",
    "\n",
    "5. **Limpieza final del DataFrame**: Se elimina cualquier valor no deseado (como 'N/E' o NaN), y se realizan otras transformaciones necesarias para que los datos estén listos para análisis posteriores.\n",
    "\n",
    "**Resultado final**: El DataFrame se devuelve limpio, con fechas estandarizadas y columnas numéricas listas para ser analizadas.\n",
    "\n"
   ]
  },
  {
   "cell_type": "code",
   "execution_count": 3,
   "metadata": {},
   "outputs": [
    {
     "name": "stdout",
     "output_type": "stream",
     "text": [
      "1. Renombrando columnas...\n",
      "2. Renombrando columnas INCP...\n",
      "3. Convertiendo las columnas a float...\n",
      "4. Estandarizando las fechas...\n",
      "5. Limpiando el CSV...\n",
      "Total de valores NaN antes de la limpieza: 576\n",
      "Total de valores NaN después de eliminar filas: 0\n",
      "\n",
      "Cantidad de datos antes de la limpieza: 658 filas\n",
      "Cantidad de datos después de la limpieza: 514 filas\n",
      "PROCESAMIENTO COMPLETO DEL INCP.\n"
     ]
    }
   ],
   "source": [
    "#Cargar csv Indice nacional de precios consumidos México\n",
    "df_incp=pd.read_csv(\"Data\\INCP.csv\")\n",
    "df_incp=f.mex_incp(df_incp)"
   ]
  },
  {
   "cell_type": "markdown",
   "metadata": {},
   "source": [
    "### Importación y limpieza de datos gubernamentales en .csv de España"
   ]
  },
  {
   "cell_type": "markdown",
   "metadata": {},
   "source": [
    "#### Procesamiento del DataFrame IPC\n",
    "\n",
    "Esta función realiza una serie de transformaciones y limpiezas en el DataFrame `df_ipc` para prepararlo para el análisis. Las acciones incluyen:\n",
    "\n",
    "1. **Renombrar Columnas**:\n",
    "   - Se eliminan los espacios en los nombres de las columnas y se convierten a minúsculas, asegurando un formato consistente.\n",
    "\n",
    "2. **Renombrar Columnas Específicas para IPC**:\n",
    "   - Los nombres de las columnas son cambiados a un formato predefinido mediante una función específica.\n",
    "\n",
    "3. **Convertir Columnas a Tipo Float**:\n",
    "   - Todas las columnas, excepto la de fecha (`date`), se convierten al tipo numérico `float`.\n",
    "\n",
    "4. **Estandarizar Fechas**:\n",
    "   - Las fechas se limpian y estandarizan para que tengan un formato uniforme y correcto.\n",
    "\n",
    "5. **Limpiar CSV**:\n",
    "   - Se eliminan valores no deseados (como 'N/E') y las columnas se convierten al formato adecuado.\n",
    "\n",
    "6. **Resultado Final**:\n",
    "   - El DataFrame procesado se devuelve, listo para ser utilizado en análisis posteriores.\n",
    "\n",
    "**Objetivo**: Preparar los datos del IPC mediante un flujo de limpieza y transformación para garantizar calidad y uniformidad.\n"
   ]
  },
  {
   "cell_type": "code",
   "execution_count": null,
   "metadata": {},
   "outputs": [
    {
     "name": "stdout",
     "output_type": "stream",
     "text": [
      "1. Renombrando columnas...\n",
      "2. Renombrando columnas IPC...\n",
      "3. Convertiendo las columnas a float...\n",
      "4. Estandarizando las fechas...\n",
      "5. Limpiando el CSV...\n",
      "Total de valores NaN antes de la limpieza: 0\n",
      "Total de valores NaN después de eliminar filas: 0\n",
      "\n",
      "Cantidad de datos antes de la limpieza: 274 filas\n",
      "Cantidad de datos después de la limpieza: 274 filas\n",
      "PROCESAMIENTO COMPLETO DEL IPC.\n"
     ]
    }
   ],
   "source": [
    "#Cargar csv Indice nacional de precios consumidos España\n",
    "df_ipc=pd.read_csv(\"Data\\IPC.csv\")\n",
    "df_ipc=f.esp_ipc(df_ipc)\n"
   ]
  },
  {
   "cell_type": "markdown",
   "metadata": {},
   "source": [
    "### Detección definición de límites de fechas para análisis y unión de los datos en un único dataframe"
   ]
  },
  {
   "cell_type": "code",
   "execution_count": 5,
   "metadata": {},
   "outputs": [
    {
     "name": "stdout",
     "output_type": "stream",
     "text": [
      "Fecha límite menor:2002-01-01 00:00:00 \n",
      " Fecha límite mayor: 2024-10-01 00:00:00\n",
      "Cantidad de filas en el DataFrame 'df1' antes de la unión: 290\n",
      "Cantidad de filas en el DataFrame 'df2' antes de la unión: 514\n",
      "Cantidad de filas en el DataFrame resultante después de la unión: 290 \n",
      "\n",
      "Cantidad de filas en el DataFrame 'df1' antes de la unión: 290\n",
      "Cantidad de filas en el DataFrame 'df2' antes de la unión: 274\n",
      "Cantidad de filas en el DataFrame resultante después de la unión: 274 \n",
      "\n"
     ]
    }
   ],
   "source": [
    "df_final=f.unir_esp_mx_comm(df, df_incp, df_ipc)"
   ]
  },
  {
   "cell_type": "markdown",
   "metadata": {},
   "source": [
    "### Obtención de datos adicionales mediante web scraping"
   ]
  },
  {
   "cell_type": "markdown",
   "metadata": {},
   "source": [
    "#### Datos sobre la cantidad de suicidios en España"
   ]
  },
  {
   "cell_type": "markdown",
   "metadata": {},
   "source": [
    "#### Recopilación y Procesamiento de Datos de Suicidio en España\n",
    "\n",
    "Estas funciones se encargan de extraer y procesar datos relacionados con el suicidio en España desde Wikipedia, estructurándolos para su análisis.\n",
    "\n",
    "##### Función: `data_sui_es`\n",
    "\n",
    "- **Web Scraping**: Navega a la página de Wikipedia y extrae datos de la tabla clasificada como `wikitable`.\n",
    "- **Estructuración**: Procesa encabezados y datos de filas para convertirlos en un `DataFrame`.\n",
    "\n",
    "##### Función: `procesar_sui_es`\n",
    "\n",
    "- **Procesamiento de Datos**:\n",
    "  - Estandariza nombres de columnas y formatos de fecha.\n",
    "  - Convierte valores numéricos y limpia el `DataFrame`.\n",
    "  - Transforma datos anuales en datos mensuales.\n",
    "\n",
    "**Resultado**: Genera un `DataFrame` limpio y mensualizado para análisis estadístico.\n"
   ]
  },
  {
   "cell_type": "code",
   "execution_count": 6,
   "metadata": {},
   "outputs": [
    {
     "name": "stdout",
     "output_type": "stream",
     "text": [
      "Reporte de valores nulos antes de la limpieza:\n",
      "date        0\n",
      "sui_h_es    0\n",
      "sui_m_es    0\n",
      "sui_es      0\n",
      "dtype: int64\n",
      "\n",
      "\n",
      "\n",
      "Se eliminaron las filas con al menos un valor nulo.\n",
      "Cantidad de datos antes de la limpieza: 44 filas.\n",
      "Cantidad de datos después de la limpieza: 44 filas.\n",
      "Se eliminaron 0 filas con valores nulos.\n"
     ]
    }
   ],
   "source": [
    "df_sui_es=esp.data_sui_es() # Utiliza funciones de Selenium para hacer web scraping y obtener datos de la web\n",
    "df_sui_es=f.procesar_sui_es(df_sui_es)"
   ]
  },
  {
   "cell_type": "markdown",
   "metadata": {},
   "source": [
    "##### Datos sobre la cantidad de suicidios en México"
   ]
  },
  {
   "cell_type": "markdown",
   "metadata": {},
   "source": [
    "#### Recopilación y Procesamiento de Datos de Suicidio en México\n",
    "\n",
    "Estas funciones se encargan de extraer y procesar datos relacionados con el suicidio en México desde Wikipedia, estructurándolos para su análisis.\n",
    "\n",
    "##### Función: `data_sui_mx`\n",
    "\n",
    "- **Web Scraping**: Navega a la página de Wikipedia y extrae datos de la tabla clasificada como `wikitable`.\n",
    "- **Estructuración**: Procesa encabezados y datos de filas para convertirlos en un `DataFrame`.\n",
    "\n",
    "##### Función: `procesar_sui_mx`\n",
    "\n",
    "- **Procesamiento de Datos**:\n",
    "  - Estandariza nombres de columnas y formatos de fecha.\n",
    "  - Convierte valores numéricos y limpia el `DataFrame`.\n",
    "  - Transforma datos anuales en datos mensuales.\n",
    "\n",
    "**Resultado**: Genera un `DataFrame` limpio y mensualizado para análisis estadístico.\n"
   ]
  },
  {
   "cell_type": "code",
   "execution_count": 7,
   "metadata": {},
   "outputs": [
    {
     "name": "stdout",
     "output_type": "stream",
     "text": [
      "Reporte de valores nulos antes de la limpieza:\n",
      "date        0\n",
      "sui_m_mx    0\n",
      "sui_h_mx    0\n",
      "sui_mx      0\n",
      "dtype: int64\n",
      "\n",
      "\n",
      "\n",
      "Se eliminaron las filas con al menos un valor nulo.\n",
      "Cantidad de datos antes de la limpieza: 48 filas.\n",
      "Cantidad de datos después de la limpieza: 48 filas.\n",
      "Se eliminaron 0 filas con valores nulos.\n"
     ]
    }
   ],
   "source": [
    "df_sui_mx=mx.data_sui_mx()\n",
    "df_sui_mx=f.procesar_sui_mx(df_sui_mx)\n"
   ]
  },
  {
   "cell_type": "markdown",
   "metadata": {},
   "source": [
    "### Unión de dataframes de datos de suicidios en España y México"
   ]
  },
  {
   "cell_type": "code",
   "execution_count": 8,
   "metadata": {},
   "outputs": [
    {
     "name": "stdout",
     "output_type": "stream",
     "text": [
      "Cantidad de filas en el DataFrame 'df1' antes de la unión: 528\n",
      "Cantidad de filas en el DataFrame 'df2' antes de la unión: 576\n",
      "Cantidad de filas en el DataFrame resultante después de la unión: 504 \n",
      "\n"
     ]
    }
   ],
   "source": [
    "df_sui=u.unir_dataframes(df_sui_es,df_sui_mx,\"date\",\"inner\")"
   ]
  },
  {
   "cell_type": "markdown",
   "metadata": {},
   "source": [
    "### Unión de dataframes de commodities y suicidios"
   ]
  },
  {
   "cell_type": "code",
   "execution_count": 9,
   "metadata": {},
   "outputs": [
    {
     "name": "stdout",
     "output_type": "stream",
     "text": [
      "Cantidad de filas en el DataFrame 'df1' antes de la unión: 274\n",
      "Cantidad de filas en el DataFrame 'df2' antes de la unión: 504\n",
      "Cantidad de filas en el DataFrame resultante después de la unión: 274 \n",
      "\n"
     ]
    }
   ],
   "source": [
    "df_final=u.unir_dataframes(df_final,df_sui,\"date\",\"left\")"
   ]
  },
  {
   "cell_type": "markdown",
   "metadata": {},
   "source": [
    "### Creación de archivo .csv del dataframe final"
   ]
  },
  {
   "cell_type": "code",
   "execution_count": 10,
   "metadata": {},
   "outputs": [],
   "source": [
    "df_final.to_csv('df_final.csv', index=False)"
   ]
  },
  {
   "cell_type": "markdown",
   "metadata": {},
   "source": [
    "# Referencias"
   ]
  },
  {
   "cell_type": "markdown",
   "metadata": {},
   "source": [
    "Banco de México. (n.d.). Cuadro de precios al consumidor (CP154). Banco de México. Recuperado de https://www.banxico.org.mx/SieInternet/consultarDirectorioInternetAction.do?sector=8&accion=consultarCuadro&idCuadro=CP154&locale=es\n",
    "\n",
    "Instituto Nacional de Estadística y Geografía (INEGI). (n.d.). Índice Nacional de Precios al Consumidor (INPC). INEGI. Recuperado de https://www.inegi.org.mx/temas/inpc/\n",
    "\n",
    "Instituto Nacional de Estadística (INE). (n.d.). Índice de Precios de Consumo (IPC). INE. Recuperado de https://www.ine.es/jaxiT3/Datos.htm?t=50902#_tabs-tabla\n",
    "\n",
    "AlgoTrading101. (2021). Guía completa de yFinance: aprende a usar la API de Yahoo Finance. Recuperado de https://algotrading101.com/learn/yfinance-guide/\n",
    "\n",
    "Wikipedia. (2024). Suicidio en España. Wikipedia. Recuperado de https://es.wikipedia.org/wiki/Suicidio_en_Espa%C3%B1a\n",
    "\n",
    "Universidad Europea. (n.d.). ¿Qué son los commodities? Universidad Europea. Recuperado de https://universidadeuropea.com/blog/que-son-los-commodities/\n",
    "\n",
    "Instituto Nacional de Estadística (INE). (2024). El Índice de Precios de Consumo (IPC). INE. Recuperado de https://www.ine.es/prensa/ipc_prensa.htm#:~:text=El%20%C3%8Dndice%20de%20Precios%20de,en%20viviendas%20familiares%20en%20Espa%C3%B1a."
   ]
  }
 ],
 "metadata": {
  "kernelspec": {
   "display_name": "primerlab",
   "language": "python",
   "name": "python3"
  },
  "language_info": {
   "codemirror_mode": {
    "name": "ipython",
    "version": 3
   },
   "file_extension": ".py",
   "mimetype": "text/x-python",
   "name": "python",
   "nbconvert_exporter": "python",
   "pygments_lexer": "ipython3",
   "version": "3.11.10"
  }
 },
 "nbformat": 4,
 "nbformat_minor": 2
}
